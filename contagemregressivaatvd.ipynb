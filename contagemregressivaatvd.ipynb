{
  "nbformat": 4,
  "nbformat_minor": 0,
  "metadata": {
    "colab": {
      "name": "contagemregressivaatvd.ipynb",
      "provenance": [],
      "authorship_tag": "ABX9TyPxBkBLqg+2aIyTfbTnV0Bb",
      "include_colab_link": true
    },
    "kernelspec": {
      "name": "python3",
      "display_name": "Python 3"
    }
  },
  "cells": [
    {
      "cell_type": "markdown",
      "metadata": {
        "id": "view-in-github",
        "colab_type": "text"
      },
      "source": [
        "<a href=\"https://colab.research.google.com/github/anafrancal/atividade-exerc-cios-e-desafios/blob/master/contagemregressivaatvd.ipynb\" target=\"_parent\"><img src=\"https://colab.research.google.com/assets/colab-badge.svg\" alt=\"Open In Colab\"/></a>"
      ]
    },
    {
      "cell_type": "code",
      "metadata": {
        "id": "XaNxaOGMcSEW",
        "colab_type": "code",
        "colab": {
          "base_uri": "https://localhost:8080/",
          "height": 622
        },
        "outputId": "b113d343-e150-4fef-c65f-ed8072b444ec"
      },
      "source": [
        "#ETE PD\n",
        "#ALUNA- ANA GLEYCE LEMOS DE FRANÇA\n",
        "#Operadores em texto e Recursividade Lógica em Phyton\n",
        " \n",
        "def contagemRegressiva(n=35):\n",
        "\n",
        "  if n ==0:\n",
        "    print('Ascender!!')\n",
        "  else:\n",
        "    print(n)\n",
        "    contagemRegressiva(n-1)\n",
        "\n",
        "contagemRegressiva(n=35)\n",
        "#def"
      ],
      "execution_count": 2,
      "outputs": [
        {
          "output_type": "stream",
          "text": [
            "35\n",
            "34\n",
            "33\n",
            "32\n",
            "31\n",
            "30\n",
            "29\n",
            "28\n",
            "27\n",
            "26\n",
            "25\n",
            "24\n",
            "23\n",
            "22\n",
            "21\n",
            "20\n",
            "19\n",
            "18\n",
            "17\n",
            "16\n",
            "15\n",
            "14\n",
            "13\n",
            "12\n",
            "11\n",
            "10\n",
            "9\n",
            "8\n",
            "7\n",
            "6\n",
            "5\n",
            "4\n",
            "3\n",
            "2\n",
            "1\n",
            "Ascender!!\n"
          ],
          "name": "stdout"
        }
      ]
    }
  ]
}