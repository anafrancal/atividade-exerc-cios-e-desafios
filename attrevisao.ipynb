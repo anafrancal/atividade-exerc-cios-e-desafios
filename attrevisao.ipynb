{
  "nbformat": 4,
  "nbformat_minor": 0,
  "metadata": {
    "colab": {
      "name": "attrevisao.ipynb",
      "provenance": [],
      "authorship_tag": "ABX9TyM4R+rZeyRK97mUCROeB7oZ",
      "include_colab_link": true
    },
    "kernelspec": {
      "name": "python3",
      "display_name": "Python 3"
    }
  },
  "cells": [
    {
      "cell_type": "markdown",
      "metadata": {
        "id": "view-in-github",
        "colab_type": "text"
      },
      "source": [
        "<a href=\"https://colab.research.google.com/github/anafrancal/atividade-exerc-cios-e-desafios/blob/master/attrevisao.ipynb\" target=\"_parent\"><img src=\"https://colab.research.google.com/assets/colab-badge.svg\" alt=\"Open In Colab\"/></a>"
      ]
    },
    {
      "cell_type": "code",
      "metadata": {
        "id": "7k7golyDXEty",
        "colab_type": "code",
        "colab": {
          "base_uri": "https://localhost:8080/",
          "height": 50
        },
        "outputId": "3e3c00ae-c11b-43a4-d53d-b86a428813df"
      },
      "source": [
        "# ETE PORTO DIGITAL\n",
        "# DISCIPLINA DE PLC\n",
        "# PROFESSOR: CLOVES\n",
        "# ESTUDANTE: ANA GLEYCE LEMOS DE FRANÇA\n",
        "\n",
        "idade = input ('Digite sua idade: ')\n",
        "print(f'sua idade é: {idade}')"
      ],
      "execution_count": 3,
      "outputs": [
        {
          "output_type": "stream",
          "text": [
            "Digite sua idade: 15\n",
            "sua idade é: 15\n"
          ],
          "name": "stdout"
        }
      ]
    }
  ]
}